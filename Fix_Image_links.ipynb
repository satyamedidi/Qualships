{
 "cells": [
  {
   "cell_type": "code",
   "execution_count": 12,
   "metadata": {},
   "outputs": [],
   "source": [
    "import os\n",
    "\n",
    "def update_html_files(directory):\n",
    "    # Define the scripts and links to be added\n",
    "    additions = \"\"\"\n",
    "<link href=\"{{ url_for('static', filename='css/normalize.css') }}\" rel=\"stylesheet\"/>\n",
    "<link href=\"{{ url_for('static', filename='css/webflow.css') }}\" rel=\"stylesheet\"/>\n",
    "<link href=\"{{ url_for('static', filename='css/qualships.css') }}\" rel=\"stylesheet\"/>\n",
    "<script src=\"{{ url_for('static', filename='js/webflow.js') }}\"></script>\n",
    "\"\"\"\n",
    "\n",
    "    # Iterate through all files in the given directory\n",
    "    for filename in os.listdir(directory):\n",
    "        if filename.endswith(\".html\"):\n",
    "            filepath = os.path.join(directory, filename)\n",
    "            with open(filepath, 'r+', encoding='utf-8') as file:\n",
    "                content = file.read()\n",
    "\n",
    "                # Find the closing </head> tag and insert the additions before it\n",
    "                head_end_index = content.find('</head>')\n",
    "                if head_end_index != -1:\n",
    "                    updated_content = content[:head_end_index] + additions + content[head_end_index:]\n",
    "\n",
    "                    # Go back to the start of the file and write the updated content\n",
    "                    file.seek(0)\n",
    "                    file.write(updated_content)\n",
    "                    file.truncate()\n",
    "\n",
    "directory = '/Users/Satya/Desktop/Qualships_Final/templates'  # replace with the path to your templates directory\n",
    "update_html_files(directory)\n"
   ]
  },
  {
   "cell_type": "code",
   "execution_count": 11,
   "metadata": {},
   "outputs": [
    {
     "name": "stdout",
     "output_type": "stream",
     "text": [
      "All HTML files have been updated.\n"
     ]
    }
   ],
   "source": [
    "import os\n",
    "from bs4 import BeautifulSoup\n",
    "\n",
    "def update_image_sources(src):\n",
    "    return '/static/images/' + '/'.join(src.split('/')[1:])\n",
    "\n",
    "def update_srcset(srcset):\n",
    "    sources = srcset.split(',')\n",
    "    updated_sources = []\n",
    "    for source in sources:\n",
    "        parts = source.strip().split(' ')\n",
    "        # Update only the first part which should be the URL\n",
    "        parts[0] = update_image_sources(parts[0])\n",
    "        updated_sources.append(' '.join(parts))\n",
    "    return ', '.join(updated_sources)\n",
    "\n",
    "directory = '/Users/Satya/Desktop/Qualships_Final/templates'\n",
    "\n",
    "for filename in os.listdir(directory):\n",
    "    if filename.endswith('.html'):\n",
    "        file_path = os.path.join(directory, filename)\n",
    "\n",
    "        with open(file_path, 'r') as file:\n",
    "            html = file.read()\n",
    "\n",
    "        soup = BeautifulSoup(html, 'html.parser')\n",
    "\n",
    "        for img in soup.find_all('img'):\n",
    "            if img.has_attr('src'):\n",
    "                img['src'] = update_image_sources(img['src'])\n",
    "            if img.has_attr('srcset'):\n",
    "                img['srcset'] = update_srcset(img['srcset'])\n",
    "\n",
    "        with open(file_path, 'w') as file:\n",
    "            file.write(str(soup))\n",
    "\n",
    "print(\"All HTML files have been updated.\")\n"
   ]
  },
  {
   "cell_type": "code",
   "execution_count": null,
   "metadata": {},
   "outputs": [],
   "source": [
    "#<base href=\"/static/\">"
   ]
  }
 ],
 "metadata": {
  "kernelspec": {
   "display_name": "base",
   "language": "python",
   "name": "python3"
  },
  "language_info": {
   "codemirror_mode": {
    "name": "ipython",
    "version": 3
   },
   "file_extension": ".py",
   "mimetype": "text/x-python",
   "name": "python",
   "nbconvert_exporter": "python",
   "pygments_lexer": "ipython3",
   "version": "3.8.5"
  },
  "orig_nbformat": 4,
  "vscode": {
   "interpreter": {
    "hash": "40d3a090f54c6569ab1632332b64b2c03c39dcf918b08424e98f38b5ae0af88f"
   }
  }
 },
 "nbformat": 4,
 "nbformat_minor": 2
}
